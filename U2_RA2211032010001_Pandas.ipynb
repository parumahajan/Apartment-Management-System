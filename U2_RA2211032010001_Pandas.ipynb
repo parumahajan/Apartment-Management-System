{
  "nbformat": 4,
  "nbformat_minor": 0,
  "metadata": {
    "colab": {
      "provenance": [],
      "authorship_tag": "ABX9TyPKQc4P6ShjyYgLk2UHvuJF",
      "include_colab_link": true
    },
    "kernelspec": {
      "name": "python3",
      "display_name": "Python 3"
    },
    "language_info": {
      "name": "python"
    }
  },
  "cells": [
    {
      "cell_type": "markdown",
      "metadata": {
        "id": "view-in-github",
        "colab_type": "text"
      },
      "source": [
        "<a href=\"https://colab.research.google.com/github/parumahajan/Apartment-Management-System/blob/main/U2_RA2211032010001_Pandas.ipynb\" target=\"_parent\"><img src=\"https://colab.research.google.com/assets/colab-badge.svg\" alt=\"Open In Colab\"/></a>"
      ]
    },
    {
      "cell_type": "code",
      "execution_count": 1,
      "metadata": {
        "colab": {
          "base_uri": "https://localhost:8080/",
          "height": 0
        },
        "id": "dLIQp3JTVXeG",
        "outputId": "94400cb9-697e-40e8-b317-b2cc309e0f28"
      },
      "outputs": [
        {
          "output_type": "stream",
          "name": "stdout",
          "text": [
            "0    10\n",
            "1    20\n",
            "2    30\n",
            "3    40\n",
            "4    50\n",
            "dtype: int64\n"
          ]
        }
      ],
      "source": [
        "#IMPLICIT\n",
        "import pandas as pd\n",
        "\n",
        "# Creating a pandas Series with implicit indexing\n",
        "data = [10, 20, 30, 40, 50]\n",
        "series = pd.Series(data)\n",
        "\n",
        "# Display the Series\n",
        "print(series)"
      ]
    },
    {
      "cell_type": "code",
      "source": [],
      "metadata": {
        "id": "acKp6kUsXIuF"
      },
      "execution_count": null,
      "outputs": []
    },
    {
      "cell_type": "code",
      "source": [
        "import pandas as pd\n",
        "\n",
        "# Creating a pandas Series with explicit indexing\n",
        "data = [10, 20, 30, 40, 50]\n",
        "index_labels = ['a', 'b', 'c', 'd', 'e']\n",
        "series = pd.Series(data, index=index_labels)\n",
        "\n",
        "# Display the Series\n",
        "print(series)"
      ],
      "metadata": {
        "colab": {
          "base_uri": "https://localhost:8080/",
          "height": 0
        },
        "id": "ibnFmTAdV6v-",
        "outputId": "af8c4648-75e7-4a1b-837a-fa36af75a8f5"
      },
      "execution_count": 2,
      "outputs": [
        {
          "output_type": "stream",
          "name": "stdout",
          "text": [
            "a    10\n",
            "b    20\n",
            "c    30\n",
            "d    40\n",
            "e    50\n",
            "dtype: int64\n"
          ]
        }
      ]
    }
  ]
}